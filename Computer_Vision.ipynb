{
  "nbformat": 4,
  "nbformat_minor": 0,
  "metadata": {
    "colab": {
      "provenance": []
    },
    "kernelspec": {
      "name": "python3",
      "display_name": "Python 3"
    },
    "language_info": {
      "name": "python"
    }
  },
  "cells": [
    {
      "cell_type": "code",
      "execution_count": 1,
      "metadata": {
        "id": "tFrcJGq49ZQU"
      },
      "outputs": [],
      "source": [
        "# import the libraries\n",
        "import tensorflow as tf\n",
        "import numpy as np\n",
        "from tensorflow.keras import Sequential\n",
        "from tensorflow.keras.layers import Dense"
      ]
    },
    {
      "cell_type": "code",
      "source": [
        "# create the model\n",
        "model = tf.keras.Sequential([\n",
        "    tf.keras.layers.Flatten(input_shape =(28,28)),\n",
        "    tf.keras.layers.Dense(128, activation = tf.nn.relu),\n",
        "    tf.keras.layers.Dense(10, activation = tf.nn.softmax)\n",
        "])"
      ],
      "metadata": {
        "colab": {
          "base_uri": "https://localhost:8080/"
        },
        "id": "tSPx3PeZCysS",
        "outputId": "c600e37b-cfb1-4230-a6a2-55462b76a92b"
      },
      "execution_count": 2,
      "outputs": [
        {
          "output_type": "stream",
          "name": "stderr",
          "text": [
            "/usr/local/lib/python3.10/dist-packages/keras/src/layers/reshaping/flatten.py:37: UserWarning: Do not pass an `input_shape`/`input_dim` argument to a layer. When using Sequential models, prefer using an `Input(shape)` object as the first layer in the model instead.\n",
            "  super().__init__(**kwargs)\n"
          ]
        }
      ]
    },
    {
      "cell_type": "code",
      "source": [
        "# get the data\n",
        "data = tf.keras.datasets.fashion_mnist\n",
        "\n",
        "# get the training and test set\n",
        "(train_images, train_labels), (test_images, test_labels) = data.load_data()"
      ],
      "metadata": {
        "id": "qzMh2h_BGxbp",
        "colab": {
          "base_uri": "https://localhost:8080/"
        },
        "outputId": "25ba366e-13fa-48e0-83b6-a8f9893954b7"
      },
      "execution_count": 3,
      "outputs": [
        {
          "output_type": "stream",
          "name": "stdout",
          "text": [
            "Downloading data from https://storage.googleapis.com/tensorflow/tf-keras-datasets/train-labels-idx1-ubyte.gz\n",
            "\u001b[1m29515/29515\u001b[0m \u001b[32m━━━━━━━━━━━━━━━━━━━━\u001b[0m\u001b[37m\u001b[0m \u001b[1m0s\u001b[0m 0us/step\n",
            "Downloading data from https://storage.googleapis.com/tensorflow/tf-keras-datasets/train-images-idx3-ubyte.gz\n",
            "\u001b[1m26421880/26421880\u001b[0m \u001b[32m━━━━━━━━━━━━━━━━━━━━\u001b[0m\u001b[37m\u001b[0m \u001b[1m0s\u001b[0m 0us/step\n",
            "Downloading data from https://storage.googleapis.com/tensorflow/tf-keras-datasets/t10k-labels-idx1-ubyte.gz\n",
            "\u001b[1m5148/5148\u001b[0m \u001b[32m━━━━━━━━━━━━━━━━━━━━\u001b[0m\u001b[37m\u001b[0m \u001b[1m0s\u001b[0m 4us/step\n",
            "Downloading data from https://storage.googleapis.com/tensorflow/tf-keras-datasets/t10k-images-idx3-ubyte.gz\n",
            "\u001b[1m4422102/4422102\u001b[0m \u001b[32m━━━━━━━━━━━━━━━━━━━━\u001b[0m\u001b[37m\u001b[0m \u001b[1m0s\u001b[0m 0us/step\n"
          ]
        }
      ]
    },
    {
      "cell_type": "code",
      "source": [
        "# normalize the training and test data\n",
        "train_images = train_images/255.0\n",
        "test_Images = test_images/255.0"
      ],
      "metadata": {
        "id": "20NBihsFF4ex"
      },
      "execution_count": 4,
      "outputs": []
    },
    {
      "cell_type": "markdown",
      "source": [
        "## Training the Neural Network\n",
        "So in this case, using the training data, our\n",
        "model ended up with an accuracy of about 91.1% after only five epochs."
      ],
      "metadata": {
        "id": "NTPw01h6Q3VK"
      }
    },
    {
      "cell_type": "code",
      "source": [
        "# compile and fit data\n",
        "model.compile(optimizer='adam', loss='sparse_categorical_crossentropy',\n",
        "              metrics = ['accuracy'])\n",
        "model.fit(train_images, train_labels,\n",
        "          epochs = 5, verbose = 2)"
      ],
      "metadata": {
        "colab": {
          "base_uri": "https://localhost:8080/"
        },
        "id": "eD6im6vKOfy0",
        "outputId": "ed49c56a-f2bb-4a37-c84d-20f5bd6dfee9"
      },
      "execution_count": 5,
      "outputs": [
        {
          "output_type": "stream",
          "name": "stdout",
          "text": [
            "Epoch 1/5\n",
            "1875/1875 - 10s - 6ms/step - accuracy: 0.8239 - loss: 0.5033\n",
            "Epoch 2/5\n",
            "1875/1875 - 5s - 3ms/step - accuracy: 0.8639 - loss: 0.3791\n",
            "Epoch 3/5\n",
            "1875/1875 - 7s - 4ms/step - accuracy: 0.8759 - loss: 0.3380\n",
            "Epoch 4/5\n",
            "1875/1875 - 10s - 6ms/step - accuracy: 0.8841 - loss: 0.3160\n",
            "Epoch 5/5\n",
            "1875/1875 - 18s - 10ms/step - accuracy: 0.8910 - loss: 0.2977\n"
          ]
        },
        {
          "output_type": "execute_result",
          "data": {
            "text/plain": [
              "<keras.src.callbacks.history.History at 0x7fa21a11dd50>"
            ]
          },
          "metadata": {},
          "execution_count": 5
        }
      ]
    },
    {
      "cell_type": "markdown",
      "source": [
        "In this case the accuracy of the model was 87.77%, which isn’t bad considering we only trained it for five epochs.\n"
      ],
      "metadata": {
        "id": "57LoqispQ8OJ"
      }
    },
    {
      "cell_type": "code",
      "source": [
        "# evaluate on the test set\n",
        "model.evaluate(test_images, test_labels)"
      ],
      "metadata": {
        "colab": {
          "base_uri": "https://localhost:8080/"
        },
        "id": "Q5Wx3RxlPSWJ",
        "outputId": "f6625b1a-d93e-4044-cefd-6c2c6acc63bf"
      },
      "execution_count": 6,
      "outputs": [
        {
          "output_type": "stream",
          "name": "stdout",
          "text": [
            "\u001b[1m313/313\u001b[0m \u001b[32m━━━━━━━━━━━━━━━━━━━━\u001b[0m\u001b[37m\u001b[0m \u001b[1m1s\u001b[0m 2ms/step - accuracy: 0.8568 - loss: 56.2113\n"
          ]
        },
        {
          "output_type": "execute_result",
          "data": {
            "text/plain": [
              "[59.48931121826172, 0.8551999926567078]"
            ]
          },
          "metadata": {},
          "execution_count": 6
        }
      ]
    },
    {
      "cell_type": "markdown",
      "source": [
        "## Exploring the Model Output\n",
        "Now that the model has been trained, and we have a good gage of its accuracy using the test set, let’s explore it a little:\n",
        "\n",
        "We’ll get a set of classifications by passing the test images to model.predict. Then\n",
        "let’s see what we get if we print out the first of the classifications and compare it to the test label"
      ],
      "metadata": {
        "id": "FYjcumo4TxYc"
      }
    },
    {
      "cell_type": "code",
      "source": [
        "# pass a set of test images to `model.predict`\n",
        "classifications = model.predict(test_images)\n",
        "print(classifications[0])\n",
        "print(test_labels[0])"
      ],
      "metadata": {
        "colab": {
          "base_uri": "https://localhost:8080/"
        },
        "id": "heno1iSpQxc2",
        "outputId": "1548b40e-459c-492c-f207-af085ca6635a"
      },
      "execution_count": 7,
      "outputs": [
        {
          "output_type": "stream",
          "name": "stdout",
          "text": [
            "\u001b[1m313/313\u001b[0m \u001b[32m━━━━━━━━━━━━━━━━━━━━\u001b[0m\u001b[37m\u001b[0m \u001b[1m1s\u001b[0m 2ms/step\n",
            "[0.         0.         0.         0.         0.         0.\n",
            " 0.         0.         0.         0.99999994]\n",
            "9\n"
          ]
        }
      ]
    },
    {
      "cell_type": "markdown",
      "source": [
        "## Stopping Training Using CallBacks\n",
        "we might want to train until we reach the desired accuracy instead of constantly trying different numbers of epochs and training and retraining until we get to our desired value. The easiest approach is to use a callback on the training."
      ],
      "metadata": {
        "id": "-LTSZlXk8PlE"
      }
    },
    {
      "cell_type": "code",
      "source": [
        "# create a call back to stop the training\n",
        "class myCallback(tf.keras.callbacks.Callback):\n",
        "  def on_epoch_end(self, epoch, logs = {}):\n",
        "    if(logs.get('accuracy')>0.95):\n",
        "      print(\"\\nReached 95% accuracy so cancelling training\")\n",
        "      self.model.stop_training = True\n",
        "\n",
        "callbacks = myCallback()"
      ],
      "metadata": {
        "id": "JGcwkx4eVsHK"
      },
      "execution_count": 8,
      "outputs": []
    },
    {
      "cell_type": "code",
      "source": [],
      "metadata": {
        "id": "-b4xkDMgfA4C"
      },
      "execution_count": null,
      "outputs": []
    }
  ]
}