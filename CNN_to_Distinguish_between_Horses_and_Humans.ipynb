{
  "nbformat": 4,
  "nbformat_minor": 0,
  "metadata": {
    "colab": {
      "provenance": []
    },
    "kernelspec": {
      "name": "python3",
      "display_name": "Python 3"
    },
    "language_info": {
      "name": "python"
    }
  },
  "cells": [
    {
      "cell_type": "code",
      "execution_count": 1,
      "metadata": {
        "id": "3mSoo7O1yoST"
      },
      "outputs": [],
      "source": [
        "# import the necessary libraries\n",
        "import urllib.request\n",
        "import zipfile"
      ]
    },
    {
      "cell_type": "code",
      "source": [
        "# set the url to download the images\n",
        "url = \"https://storage.googleapis.com/laurencemoroney-blog.appspot.com/horse-or-human.zip\"\n",
        "file_name = 'horse-or-human.zip'\n",
        "training_dir = 'horse-or-human/training/'"
      ],
      "metadata": {
        "id": "bDAlpWeV1h0o"
      },
      "execution_count": 2,
      "outputs": []
    },
    {
      "cell_type": "code",
      "source": [],
      "metadata": {
        "id": "OLx5YYdm22_q"
      },
      "execution_count": null,
      "outputs": []
    }
  ]
}